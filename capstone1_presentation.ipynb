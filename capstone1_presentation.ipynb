{
 "cells": [
  {
   "cell_type": "markdown",
   "metadata": {},
   "source": [
    "# Can we predict performance in the NCAA men's basketball tournament based on team statistics."
   ]
  },
  {
   "cell_type": "markdown",
   "metadata": {},
   "source": [
    "It's March! and college basketball fans across the USA are filling in their brackets. The NCAA Men's Basketball Tournament, also know as March Madness is an annual 64 team single-elimination tournament held to determine a national champion. Can a linear model help fans predict the winners?"
   ]
  },
  {
   "cell_type": "markdown",
   "metadata": {},
   "source": [
    "## Dataset\n"
   ]
  },
  {
   "cell_type": "markdown",
   "metadata": {},
   "source": [
    "All data was collected from the Sport Reference College Basketball Website (https://www.sports-reference.com/cbb/).  The  CSV files contained the data I needed, except for number of NCAA Tournament Wins, which I pulled from a different location on the same website.\n",
    "\n",
    "I collected team statistics from 10 seasons (2008-2017).\n",
    "\n",
    "* Good: No Missing values and easy to filter out NCAA tournament participants\n",
    "* Bad: Wasn't able to seperate regular season and postseason data\n",
    "* Ugly: Target varaiable, Tournament Wins, was not in the dataset so I had to manually add it"
   ]
  },
  {
   "cell_type": "markdown",
   "metadata": {},
   "source": [
    "<img alt=\"/Team Stats\" src=\"images/sports_reference_cbb.png\" width='800'>  \n",
    "<sub><b>Figure 1: </b> Data collected from www.sports-reference.com/cbb/ </sub>   "
   ]
  },
  {
   "cell_type": "markdown",
   "metadata": {},
   "source": [
    "## Tournament Background\n",
    "* Single elimination tournament held annualy over three weekends in March and April.\n",
    "* Field of 64 teams selected from 351 total teams.\n",
    "* Six rounds\n",
    "* One winner"
   ]
  },
  {
   "cell_type": "markdown",
   "metadata": {},
   "source": [
    "<img alt=\"/bracket_ncaa\" src=\"images/brackets.png\" width='800'>  \n",
    "<sub><b>Figure 2: </b> Tournament Bracket</sub>   "
   ]
  },
  {
   "cell_type": "markdown",
   "metadata": {},
   "source": [
    "## Model Exploration\n",
    "### X-variables\n",
    "* typical basketball team statistics\n",
    "* aggregate stats were nomalized to per game.\n",
    "* Strength of Schedule (SOS) is standardized rating of a team's opponent. SOS is crucial when evaluating college team strength because widely varying conference strength.\n",
    "\n",
    "### y-variable\n",
    "* number of Tournament Wins used to assess tournament performance. "
   ]
  },
  {
   "cell_type": "markdown",
   "metadata": {},
   "source": [
    "### Cleaned Data"
   ]
  },
  {
   "cell_type": "markdown",
   "metadata": {},
   "source": [
    "<img alt=\"/final_table\" src=\"images/cleaned_data.png\" width='800'>  \n",
    "<sub><b>Figure 3: </b> Cleaned Data</sub>   "
   ]
  },
  {
   "cell_type": "markdown",
   "metadata": {},
   "source": [
    "# EDA"
   ]
  },
  {
   "cell_type": "markdown",
   "metadata": {},
   "source": [
    "<img alt=\"/heat_map\" src=\"images/heat_map.png\" width='800'>  \n",
    "<sub><b>Figure 4: </b> Heat Map </sub>   "
   ]
  },
  {
   "cell_type": "markdown",
   "metadata": {},
   "source": [
    "## Model Exploration"
   ]
  },
  {
   "cell_type": "markdown",
   "metadata": {},
   "source": [
    "## Train/Test Split\n",
    "* Training and testing data was seperated by season.\n",
    "* Training data from seasons:\n",
    "    * 2008\n",
    "    * 2009\n",
    "    * 2011\n",
    "    * 2012\n",
    "    * 2014\n",
    "    * 2015\n",
    "    * 2017\n",
    "* Testing data from seasons:\n",
    "    * 2010\n",
    "    * 2013\n",
    "    * 2016\n",
    "    \n"
   ]
  },
  {
   "cell_type": "markdown",
   "metadata": {},
   "source": [
    "## Non-regularized linear regression\n",
    "* Selected variables with Tournament Win correlation.\n",
    "* Some variables had high collinearity so only one was selected.\n",
    "* X-Variables selected were:\n",
    "    * Strength of Schedule (SOS)\n",
    "    * Winning Percentage (W-L%)\n",
    "    * Field Goal Percentage (FG%)\n",
    "    * Turnovers/Game (TOV/G)\n",
    "* Regression Coefficients\n",
    "    * Intercept: -4.16\n",
    "    * Winning Percentage: 6.07\n",
    "    * Field Goal Percentage: 0.10\n",
    "    * Turnovers/Game: -0.03\n",
    "* Final non-regularized regression RMSE: 1.100"
   ]
  },
  {
   "cell_type": "markdown",
   "metadata": {},
   "source": [
    "## Ridge Regression\n",
    "* Standardized Data after Train/Test Split\n",
    "* Final Ridge Regression RMSE: 1.108"
   ]
  },
  {
   "cell_type": "markdown",
   "metadata": {},
   "source": [
    "## Lasso Regression\n",
    "* Standardized Data after Train/Test Split\n",
    "* Final Lasso Regression RMSE: 1.096"
   ]
  },
  {
   "cell_type": "markdown",
   "metadata": {},
   "source": [
    "# Conclusions\n",
    "* Final RSME was very similar from the regressions so I believe that means the complexity of my models does not have an effect on model performance. \n",
    "* With a preference for simplicity, I would use the non-regularized linear regression."
   ]
  },
  {
   "cell_type": "markdown",
   "metadata": {},
   "source": [
    "# Going Forward"
   ]
  },
  {
   "cell_type": "markdown",
   "metadata": {},
   "source": [
    "* How effective is my linear regression model in predicting the performance of teams in this year's NCAA tournament?\n",
    "* Try a logistic regression to see how well it could predict the probablity of a team winning a certain number of games."
   ]
  }
 ],
 "metadata": {
  "kernelspec": {
   "display_name": "Python 3",
   "language": "python",
   "name": "python3"
  },
  "language_info": {
   "codemirror_mode": {
    "name": "ipython",
    "version": 3
   },
   "file_extension": ".py",
   "mimetype": "text/x-python",
   "name": "python",
   "nbconvert_exporter": "python",
   "pygments_lexer": "ipython3",
   "version": "3.6.3"
  }
 },
 "nbformat": 4,
 "nbformat_minor": 2
}
